{
 "cells": [
  {
   "cell_type": "markdown",
   "id": "cb9a9d83",
   "metadata": {},
   "source": [
    "### Best Courses to Round out Data Science Knowledge\n",
    "\n",
    "\n",
    "#### Statistics\n",
    "* [Statistics with Python](https://www.coursera.org/learn/inferential-statistical-analysis-python?specialization=statistics-with-python#syllabus)\n",
    "* [Advanced Statistical Methods](https://www.coursera.org/specializations/data-science-statistics-machine-learning#courses) - Johns Hopkins \n",
    "\n",
    "#### Computer Science\n",
    "* [Mega Flask Tutorial](https://blog.miguelgrinberg.com/post/the-flask-mega-tutorial-part-i-hello-world) - build a small web app \n",
    "* [Coding lessons (JavaScript)](https://www.khanacademy.org/computing)\n",
    "* [Harvard CS-50 Computer Science](https://www.edx.org/course/introduction-computer-science-harvardx-cs50x)\n",
    "* Watch Jim: http://jimshapedcoding.com/courses/Python%20Web%20Scraping\n",
    "* [Python Learning- RealPython ](https://realpython.com/learning-paths/)\n",
    "     * https://realpython.com/learning-paths/data-visualization-python/\n",
    "     * https://realpython.com/learning-paths/data-science-python-core-skills/\n",
    "     \n",
    "\n",
    "#### Data Science\n",
    " * https://cognitiveclass.ai/learn/data-science\n",
    "\n",
    "#### Machine Learning &  Big Data\n",
    "* https://cognitiveclass.ai/learn\n"
   ]
  },
  {
   "cell_type": "code",
   "execution_count": null,
   "id": "fc197dba",
   "metadata": {},
   "outputs": [],
   "source": []
  }
 ],
 "metadata": {
  "kernelspec": {
   "display_name": "Python 3",
   "language": "python",
   "name": "python3"
  },
  "language_info": {
   "codemirror_mode": {
    "name": "ipython",
    "version": 3
   },
   "file_extension": ".py",
   "mimetype": "text/x-python",
   "name": "python",
   "nbconvert_exporter": "python",
   "pygments_lexer": "ipython3",
   "version": "3.8.8"
  }
 },
 "nbformat": 4,
 "nbformat_minor": 5
}
