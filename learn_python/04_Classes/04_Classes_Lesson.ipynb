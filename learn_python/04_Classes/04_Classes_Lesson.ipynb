{
 "cells": [
  {
   "cell_type": "markdown",
   "id": "5a5c4b72",
   "metadata": {},
   "source": [
    "## Object Oriented Programming\n",
    "Understanding Classes and Objects elivates your code from a simple script to a modular, rubust software. This is where it starts to get really fun.\n",
    "\n",
    "#### Watch: \n",
    "* Explanation: https://www.youtube.com/watch?v=ZDa-Z5JzLYM\n",
    "* Watch a dev build mindsweeper game: https://www.youtube.com/playlist?list=PLOkVupluCIjsyLs2lHL7M3ZubAxH10WHB\n",
    "\n",
    "#### Read:\n",
    "* https://realpython.com/python3-object-oriented-programming/\n",
    "\n",
    "#### Try:\n",
    "* [Build an oldschool text game with python](https://archive.fo/c3lrO)\n",
    "* [Making simple graphical games](https://archive.fo/Xfa0G)\n",
    "\n",
    "#### Continue Learning:\n",
    "* [OOP - Real Python](https://realpython.com/learning-paths/object-oriented-programming-oop-python/)\n",
    "* [Pandas](https://realpython.com/learning-paths/data-science-python-core-skills/) the data science dataframe object"
   ]
  },
  {
   "cell_type": "code",
   "execution_count": null,
   "id": "392caec7",
   "metadata": {},
   "outputs": [],
   "source": []
  }
 ],
 "metadata": {
  "kernelspec": {
   "display_name": "Python 3",
   "language": "python",
   "name": "python3"
  },
  "language_info": {
   "codemirror_mode": {
    "name": "ipython",
    "version": 3
   },
   "file_extension": ".py",
   "mimetype": "text/x-python",
   "name": "python",
   "nbconvert_exporter": "python",
   "pygments_lexer": "ipython3",
   "version": "3.8.8"
  }
 },
 "nbformat": 4,
 "nbformat_minor": 5
}
