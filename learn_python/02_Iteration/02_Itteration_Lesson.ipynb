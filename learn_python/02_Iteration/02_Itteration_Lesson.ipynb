{
  "cells": [
    {
      "cell_type": "markdown",
      "source": [
        "### Lesson 2 - Iteration: Controling the Power of Automation\n",
        "This section represents the bread and butter of python. Be sure to work through everything; and as learn more python be prepared to revisit the documentation on these subjects\n",
        "Strings and lists are the two most commonly used \"itterables\" in python. There are many many typ\n",
        "\n",
        "#### 1. Read:\n",
        "* Automate the Boring Stuff CH.4 Lists http://automatetheboringstuff.com/2e/chapter4/\n",
        "\n",
        "#### 2. Watch:\n",
        "* Python Tutorial for Beginners 2: Strings - Working with Textual Data: https://youtu.be/k9TUPpGqYTo\n",
        "* Python Tutorial for Beginners 4: Lists, Tuples, and Sets https://youtu.be/W8KRzm-HUcc\n",
        "* Python Documentation: https://docs.python.org/3/tutorial/introduction.html#lists\n",
        "* Python Tutorial for Beginners 6: Conditionals and Booleans - If, Else, and Elif Statements https://youtu.be/DZwmZ8Usvnk\n",
        "\n",
        "\n",
        "#### 3. Try:\n",
        "* Practice Basics (easy):\n",
        " https://www.learnpython.org/en/Lists  \n",
        " https://www.learnpython.org/en/Loops  \n",
        " https://www.learnpython.org/en/String_Formatting  \n",
        " https://realpython.com/python-f-strings/  \n",
        " \n",
        "#### 4. Self Assess:\n",
        "###### A) Strings\n",
        "Add string using both % and f-string {} formatting to a knock-knock joke:  \n",
        "http://inventwithpython.com/invent4thed/chapter4.html\n",
        "\n",
        "###### B) Data Types and lists guided research\n",
        "Complete the quize and by researching each question as you complete it; use stack overflow, python docs, or google as you work:  \n",
        "https://realpython.com/quizzes/python-data-types/  \n",
        "https://realpython.com/quizzes/python-lists-tuples  \n",
        "https://realpython.com/quizzes/python-while-loop/  \n",
        "\n",
        "###### C) Assessment\n",
        "See if you can complete this quize, without researching the answers, as an assessment. Then research the ones you got wrong:  \n",
        "https://www.programiz.com/python-programming/quiz/native-data-types\n"
      ],
      "metadata": {}
    },
    {
      "cell_type": "code",
      "source": [],
      "outputs": [],
      "execution_count": null,
      "metadata": {}
    },
    {
      "cell_type": "code",
      "source": [],
      "outputs": [],
      "execution_count": null,
      "metadata": {}
    },
    {
      "cell_type": "markdown",
      "source": [
        "#### 5 A. Assignment: Filter up zero's:\n",
        "\n",
        "Given an list of integers, write code to move all 0's to the end of it while maintaining the relative order of the non-zero elements.\n",
        "\n",
        "Example:\n",
        "```\n",
        "Input: [0,1,0,3,12]\n",
        "Output: [1,3,12,0,0]\n",
        "```\n",
        "\n",
        "**First Try this the easy way:**  \n",
        "* You can make a copy of the array into another list variable and use it to \"copy and paste\" numbers around if you need\n",
        "* Dont worry about how many steps it takes to do this"
      ],
      "metadata": {}
    },
    {
      "cell_type": "code",
      "source": [],
      "outputs": [],
      "execution_count": null,
      "metadata": {}
    },
    {
      "cell_type": "code",
      "source": [],
      "outputs": [],
      "execution_count": null,
      "metadata": {}
    },
    {
      "cell_type": "markdown",
      "source": [
        "**Now try to improve your method**  \n",
        "* Write code that does this [in-place](https://www.interviewcake.com/concept/python/in-place) without making a copy of the array.\n",
        "* Minimize the total number of operations."
      ],
      "metadata": {}
    },
    {
      "cell_type": "code",
      "source": [],
      "outputs": [],
      "execution_count": null,
      "metadata": {}
    },
    {
      "cell_type": "code",
      "source": [],
      "outputs": [],
      "execution_count": null,
      "metadata": {}
    },
    {
      "cell_type": "markdown",
      "source": [
        "#### 5 C. Asignment: FizzBuzz\n",
        "Write code that outputs the string representation of numbers from 1 to n.\n",
        "\n",
        "But for multiples of three it should output “Fizz” instead of the number and for the multiples of five output “Buzz”. For numbers which are multiples of both three and five output “FizzBuzz”.\n",
        "\n",
        "***Example***:\n",
        "\n",
        "n = 15,\n",
        "\n",
        "Return:\n",
        "```Python\n",
        "[\n",
        "    \"1\",\n",
        "    \"2\",\n",
        "    \"Fizz\",\n",
        "    \"4\",\n",
        "    \"Buzz\",\n",
        "    \"Fizz\",\n",
        "    \"7\",\n",
        "    \"8\",\n",
        "    \"Fizz\",\n",
        "    \"Buzz\",\n",
        "    \"11\",\n",
        "    \"Fizz\",\n",
        "    \"13\",\n",
        "    \"14\",\n",
        "    \"FizzBuzz\"\n",
        "]\n",
        "```\n",
        "\n",
        "***Test Cases***:\n",
        "```Python\n",
        "0, 2,3,4,5,6,15,30,300,-1,-15\n",
        "```"
      ],
      "metadata": {}
    },
    {
      "cell_type": "code",
      "source": [],
      "outputs": [],
      "execution_count": null,
      "metadata": {}
    },
    {
      "cell_type": "code",
      "source": [],
      "outputs": [],
      "execution_count": null,
      "metadata": {}
    },
    {
      "cell_type": "code",
      "source": [],
      "outputs": [],
      "execution_count": null,
      "metadata": {}
    },
    {
      "cell_type": "markdown",
      "source": [
        "\n",
        "#### 5 C. Asignment: Best Time to Buy and Sell Stock\n",
        "Say you have an array for which the ith element is the price of a given stock on day i.\n",
        "\n",
        "If you were only permitted to complete at most one transaction (i.e., buy one and sell one share of the stock), design an algorithm to find the maximum profit.\n",
        "\n",
        "Note that you cannot sell a stock before you buy one.\n",
        "\n",
        "\n",
        "##### Example 1:\n",
        "\n",
        "```\n",
        "Input: [7,1,5,3,6,4]\n",
        "Output: 5\n",
        "Explanation: Buy on day 2 (price = 1) and sell on day 5 (price = 6), profit = 6-1 = 5.\n",
        "             Not 7-1 = 6, as selling price needs to be larger than buying price.\n",
        "          \n",
        "```\n",
        "\n",
        "##### Example 2:\n",
        "```\n",
        "Input: [7,6,4,3,1]\n",
        "Output: 0\n",
        "Explanation: In this case, no transaction is done, i.e. max profit = 0.\n",
        "```\n",
        "\n"
      ],
      "metadata": {}
    },
    {
      "cell_type": "code",
      "source": [],
      "outputs": [],
      "execution_count": null,
      "metadata": {}
    },
    {
      "cell_type": "code",
      "source": [],
      "outputs": [],
      "execution_count": null,
      "metadata": {}
    },
    {
      "cell_type": "code",
      "source": [],
      "outputs": [],
      "execution_count": null,
      "metadata": {}
    },
    {
      "cell_type": "code",
      "source": [],
      "outputs": [],
      "execution_count": null,
      "metadata": {}
    }
  ],
  "metadata": {
    "kernelspec": {
      "name": "python3",
      "language": "python",
      "display_name": "Python 3"
    },
    "language_info": {
      "name": "python",
      "version": "3.6.9",
      "mimetype": "text/x-python",
      "codemirror_mode": {
        "name": "ipython",
        "version": 3
      },
      "pygments_lexer": "ipython3",
      "nbconvert_exporter": "python",
      "file_extension": ".py"
    },
    "kernel_info": {
      "name": "python3"
    },
    "nteract": {
      "version": "nteract-front-end@1.0.0"
    }
  },
  "nbformat": 4,
  "nbformat_minor": 4
}