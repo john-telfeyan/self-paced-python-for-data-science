{
 "cells": [
  {
   "cell_type": "markdown",
   "metadata": {},
   "source": [
    "### Lesson 1: Basics and Flow controls\n",
    "\n",
    "#### 0. Basic Concepts of Programming\n",
    "If you have never thought of programming before, never made an `if-then` formula in excel, never looked under the hood at HTML code in a webpage you may be wondering \"Why do Learn to program?\" All of the programming concepts these links teach you are tools on a tool belt; but in order to know what those tools are for you need to understand what the end product we're trying to build looks like.  \n",
    "\n",
    "To that end, this site from Microsoft will teach you those concepts by showing you the logic used to build arcade games. I recomend building a few games first before diving into these if you have never programmed before:\n",
    "\n",
    "https://arcade.makecode.com/  \n",
    " * Easy beginner guide: Interactive Greating Card https://arcade.makecode.com/--skillmap#beginner\n",
    " * Medium difficulty \"Astroids\" builder: https://arcade.makecode.com/--skillmap#space\n",
    "\n",
    "\n",
    "##### 1. Read:\n",
    "* Automate the Boring Stuff CH.1 Python Basics: http://automatetheboringstuff.com/2e/chapter1/\n",
    "* Automate the Boring Stuff CH.2 Flow Controls http://automatetheboringstuff.com/2e/chapter2/\n",
    "\n",
    "##### 2. Watch:\n",
    "* Python Tutorial for Beginners 1: Install and Setup for Mac and Windows: https://youtu.be/YYXdXT2l-Gg\n",
    "  (you do not have to install if you want to use the co-calc online interface)\n",
    "* Python Tutorial for Beginners 3: Integers and Floats - Working with Numeric Data https://youtu.be/khKv-8q7YmY\n",
    "* **Optional** Python Tutorial for Beginners 2: Strings - Working with Textual Data https://youtu.be/k9TUPpGqYTo\n",
    "\n",
    "##### 3. Try:\n",
    "* Practice Basics (easy): https://www.learnpython.org/en/Hello%2C_World%21\n",
    "* Practice Variables (easy): https://www.learnpython.org/en/Variables_and_Types\n",
    "* Practice flow controls (intermediate): http://inventwithpython.com/invent4thed/chapter2.html\n",
    "\n",
    "##### 4. Assignment:\n",
    "Try running the lines below, in section 3 above, or in at the end of the chapter in the reading above"
   ]
  },
  {
   "cell_type": "code",
   "execution_count": 2,
   "metadata": {},
   "outputs": [],
   "source": [
    "# Is the following is a variable or a string? What happens when you don't use quotes around a word and try to compile it?\n",
    "# Press shift enter to compile the code in this line; Does the error that occurs make sense given the syntax below?\n",
    "spam"
   ]
  },
  {
   "cell_type": "code",
   "execution_count": 3,
   "metadata": {},
   "outputs": [],
   "source": [
    "# How is this line different and why does it compile correctly?\n",
    "spam = \"spam\""
   ]
  },
  {
   "cell_type": "code",
   "execution_count": null,
   "metadata": {},
   "outputs": [],
   "source": []
  }
 ],
 "metadata": {
  "kernelspec": {
   "display_name": "Python 3",
   "language": "python",
   "name": "python3"
  },
  "language_info": {
   "codemirror_mode": {
    "name": "ipython",
    "version": 3
   },
   "file_extension": ".py",
   "mimetype": "text/x-python",
   "name": "python",
   "nbconvert_exporter": "python",
   "pygments_lexer": "ipython3",
   "version": "3.7.10"
  }
 },
 "nbformat": 4,
 "nbformat_minor": 4
}
