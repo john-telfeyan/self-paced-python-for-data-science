{
 "cells": [
  {
   "cell_type": "markdown",
   "metadata": {},
   "source": [
    "### Lesson 1: Basics and Flow controls\n",
    "\n",
    "##### 1. Read:\n",
    "* Automate the Boring Stuff CH.1 Python Basics: http://automatetheboringstuff.com/2e/chapter1/\n",
    "* Automate the Boring Stuff CH.2 Flow Controls http://automatetheboringstuff.com/2e/chapter2/\n",
    "\n",
    "##### 2. Watch:\n",
    "* Python Tutorial for Beginners 1: Install and Setup for Mac and Windows: https://youtu.be/YYXdXT2l-Gg\n",
    "  (you do not have to install if you want to use the co-calc online interface)\n",
    "* Python Tutorial for Beginners 3: Integers and Floats - Working with Numeric Data https://youtu.be/khKv-8q7YmY\n",
    "* **Optional** Python Tutorial for Beginners 2: Strings - Working with Textual Data https://youtu.be/k9TUPpGqYTo\n",
    "\n",
    "##### 3. Try:\n",
    "* Practice Basics (easy): https://www.learnpython.org/en/Hello%2C_World%21\n",
    "* Practice Variables (easy): https://www.learnpython.org/en/Variables_and_Types\n",
    "* Practice flow controls (intermediate): http://inventwithpython.com/invent4thed/chapter2.html\n",
    "\n",
    "##### 4. Assignment:\n",
    "Watch the video on probability https://youtu.be/HaYbxQC61pw\n",
    "\n",
    "Below, code the equation and variables with the right data type to complete the baysian function so that it returns the correct result\n"
   ]
  },
  {
   "cell_type": "code",
   "execution_count": null,
   "metadata": {},
   "outputs": [],
   "source": []
  }
 ],
 "metadata": {
  "kernelspec": {
   "display_name": "Python 3",
   "language": "python",
   "name": "python3"
  },
  "language_info": {
   "codemirror_mode": {
    "name": "ipython",
    "version": 3
   },
   "file_extension": ".py",
   "mimetype": "text/x-python",
   "name": "python",
   "nbconvert_exporter": "python",
   "pygments_lexer": "ipython3",
   "version": "3.6.10"
  }
 },
 "nbformat": 4,
 "nbformat_minor": 4
}
