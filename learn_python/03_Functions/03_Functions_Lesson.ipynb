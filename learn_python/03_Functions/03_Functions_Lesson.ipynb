{
 "cells": [
  {
   "cell_type": "markdown",
   "metadata": {},
   "source": [
    "### Lesson 3: Functions\n",
    "Functions allow you to modularize commonly used sections of code. Everything changes after you learn this. from now on, most \n",
    "\n",
    "##### 1. Read:\n",
    "* Automate the Boring Stuff CH.3 Functions http://automatetheboringstuff.com/2e/chapter3/\n",
    "* Python docs: https://docs.python.org/3/tutorial/controlflow.html#more-on-defining-functions\n",
    "\n",
    "##### 2. Watch:\n",
    "* Python Tutorial for Beginners 8: Functions https://youtu.be/6iF8Xb7Z3wQ\n",
    "\n",
    "##### 3. Try:\n",
    "https://www.learnpython.org/en/Functions\n",
    "\n",
    "#### 4. Assignment:\n",
    "Build the dungeon in Dragon Realm (below) *then* add creative functionality to the Dragon realm world of your choice using the combinations and permutations probability knowledge you learned in stats class to make the randomization more realisitc or more fun. You only need to use the `random` library, iteration, functions, and boolean logic to power this: For example you can write a function that simulates multiple \"dice\" rolls to simulate randomness in the dungeon and then give the user some more control over their fate by influencing the odds in some way.\n",
    "\n",
    "Dragon Realm: http://inventwithpython.com/invent4thed/chapter5.html"
   ]
  },
  {
   "cell_type": "code",
   "execution_count": 1,
   "metadata": {},
   "outputs": [],
   "source": [
    "## Example: 2x 6-sided dice \n",
    "import random\n",
    "def dice_2d6():\n",
    "    total = 0\n",
    "    for i in range(2):\n",
    "        total += random.randint(1, 6)\n",
    "    return total"
   ]
  },
  {
   "cell_type": "code",
   "execution_count": 2,
   "metadata": {},
   "outputs": [
    {
     "name": "stdout",
     "output_type": "stream",
     "text": [
      "[5, 10, 7, 11, 5, 10, 10, 5, 9, 8, 6, 5, 6, 7, 2, 10, 6, 3, 6, 8, 12, 12, 7, 7, 7, 6, 6, 7, 11, 7, 11, 2, 7, 8, 7, 7, 12, 2, 7, 5, 5, 6, 7, 4, 11, 6, 8, 5, 3, 4, 5, 4, 7, 9, 7, 6, 2, 5, 9, 3, 8, 4, 5, 3, 7, 8, 9, 6, 9, 10, 6, 10, 7, 8, 9, 10, 7, 10, 11, 6, 5, 6, 3, 8, 7, 8, 3, 6, 7, 9, 5, 10, 7, 5, 8, 7, 11, 8, 6, 9]\n"
     ]
    }
   ],
   "source": [
    "# check out the distribution the 2d6 dice creates:\n",
    "s = []\n",
    "for i in range(100):\n",
    "    s.append(dice_2d6())\n",
    "    \n",
    "print(s)"
   ]
  },
  {
   "cell_type": "code",
   "execution_count": 3,
   "metadata": {},
   "outputs": [
    {
     "data": {
      "text/plain": [
       "array([[<matplotlib.axes._subplots.AxesSubplot object at 0x00000210B1181208>]],\n",
       "      dtype=object)"
      ]
     },
     "execution_count": 3,
     "metadata": {},
     "output_type": "execute_result"
    },
    {
     "data": {
      "image/png": "[encoded data removed]",
      "text/plain": [
       "<Figure size 432x288 with 1 Axes>"
      ]
     },
     "metadata": {
      "needs_background": "light"
     },
     "output_type": "display_data"
    }
   ],
   "source": [
    "# This code shows the histogram (distribution for the list 's')\n",
    "import pandas as pd\n",
    "df = pd.DataFrame(s)\n",
    "df.hist()"
   ]
  },
  {
   "cell_type": "markdown",
   "metadata": {},
   "source": [
    "### Applying advanced probabilty to a game model:\n",
    "This represents a binomail probability distribution for example. so rolling a 6 is much more likely than rolling a 2 or a 12. You could add this to the game, for example, by makeing an outcome happen only if the user rolls greater than 4, to simulate a likely event or less than 3 to simulate a very unlikely event.\n",
    "\n",
    "Refresher:  \n",
    "https://www.youtube.com/watch?v=AbSUq4QBpns\n",
    "\n",
    "https://people.richland.edu/james/lecture/m113/binomial.html\n",
    "\n",
    "Try to build a function for your own dice (such as 2 twenty-sided (biig range) or 3 three-sided dice (small range) for example and add it to the game \n"
   ]
  },
  {
   "cell_type": "code",
   "execution_count": null,
   "metadata": {},
   "outputs": [],
   "source": []
  },
  {
   "cell_type": "code",
   "execution_count": null,
   "metadata": {},
   "outputs": [],
   "source": []
  },
  {
   "cell_type": "code",
   "execution_count": null,
   "metadata": {},
   "outputs": [],
   "source": []
  },
  {
   "cell_type": "code",
   "execution_count": null,
   "metadata": {},
   "outputs": [],
   "source": []
  },
  {
   "cell_type": "code",
   "execution_count": null,
   "metadata": {},
   "outputs": [],
   "source": []
  }
 ],
 "metadata": {
  "kernelspec": {
   "display_name": "Python 3",
   "language": "python",
   "name": "python3"
  },
  "language_info": {
   "codemirror_mode": {
    "name": "ipython",
    "version": 3
   },
   "file_extension": ".py",
   "mimetype": "text/x-python",
   "name": "python",
   "nbconvert_exporter": "python",
   "pygments_lexer": "ipython3",
   "version": "3.6.10"
  }
 },
 "nbformat": 4,
 "nbformat_minor": 4
}
