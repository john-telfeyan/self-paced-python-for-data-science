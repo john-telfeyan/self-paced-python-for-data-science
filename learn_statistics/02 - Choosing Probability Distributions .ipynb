{
 "cells": [
  {
   "cell_type": "markdown",
   "id": "a5ec88ff",
   "metadata": {},
   "source": [
    "### Choosing Probability Distributions\n",
    "\n",
    "**probability distributions** are  mathematical function that predict the likelyhoods of occurrence of different possible outcomes for an experiment. Different experiments and types of events have different distributions because the probability changes based on natural causes.  \n",
    "\n",
    "Distributions are usually visualized one variable at a time (1-dimensional) with histograms\n",
    "##### 1. Watch:\n",
    "* [Types of probability distrobutions](https://www.youtube.com/watch?v=b9a27XN_6tg) \n",
    "* [normal vs lognormal](https://www.youtube.com/watch?v=xtTX69JZ92w)\n",
    "* Drawing Histograms - https://www.youtube.com/watch?v=4eLJGG2Ad30\n",
    "* [Interpreting Histograms](https://www.khanacademy.org/math/cc-sixth-grade-math/cc-6th-data-statistics/histograms/v/interpreting-histograms) - Khan Academy\n",
    "\n",
    "##### 2. Read:\n",
    "* [Understanding Probability distributions](https://statisticsbyjim.com/basics/probability-distributions) - Statistics by Jim\n",
    "* Wiley - [Understanding and Choosing the Right Probability Distributions](https://onlinelibrary.wiley.com/doi/pdf/10.1002/9781119197096.app03) Short \n",
    "* Dummies.com - [Discrete and Continuous Probability Distributions](https://www.dummies.com/article/technology/information-technology/data-science/big-data/discrete-and-continuous-probability-distributions-142226) - Breif overview\n",
    "* healthknowledge.org.uk - [Standard Statistical Distributions (e.g. Normal, Poisson, Binomial) and their uses](https://www.healthknowledge.org.uk/public-health-textbook/research-methods/1b-statistical-methods/statistical-distributions) -  medical uses for different distribtutions\n",
    "*  Analytics Vidhya  - [6 Common Probability Distributions every data science professional should know](https://www.analyticsvidhya.com/blog/2017/09/6-probability-distributions-data-science/) Short and theoretical\n",
    "* [Chi-squared and goodness-of-fit](https://www.itl.nist.gov/div898/handbook/eda/section3/eda35f.htm)\n",
    "\n",
    "##### 3. Try:\n",
    "* [Probability Distributions in Python Tutorial](https://www.datacamp.com/community/tutorials/probability-distributions-python)\n",
    "* [Probability distribution quiz](https://quizizz.com/admin/quiz/5637c51ccbd32d4365fa52c9/probability-distributions)\n",
    "* [plot a binomal distribution](https://www.geeksforgeeks.org/python-binomial-distribution/)\n",
    "\n",
    "##### 4. Self Assess:\n",
    "Explore the [Wine Dataset](https://archive.ics.uci.edu/ml/datasets/wine)  and identify all probability distributions for each varaible:\n",
    "* https://www.alldatascience.com/classification/wine-dataset-analysis-with-python/\n",
    "* https://www.dataquest.io/blog/basic-statistics-in-python-probability/\n",
    "\n",
    "Complete wine analysis: https://www.kaggle.com/mgmarques/wines-type-and-quality-classification-exercises\n",
    "\n",
    "#### 5. Coninue Learning\n",
    "* [Statistics](https://www.coursera.org/learn/stanford-statistics) - Stanford (Corsera)"
   ]
  },
  {
   "cell_type": "code",
   "execution_count": null,
   "id": "4b94189b",
   "metadata": {},
   "outputs": [],
   "source": []
  }
 ],
 "metadata": {
  "kernelspec": {
   "display_name": "Python 3",
   "language": "python",
   "name": "python3"
  },
  "language_info": {
   "codemirror_mode": {
    "name": "ipython",
    "version": 3
   },
   "file_extension": ".py",
   "mimetype": "text/x-python",
   "name": "python",
   "nbconvert_exporter": "python",
   "pygments_lexer": "ipython3",
   "version": "3.8.8"
  }
 },
 "nbformat": 4,
 "nbformat_minor": 5
}
