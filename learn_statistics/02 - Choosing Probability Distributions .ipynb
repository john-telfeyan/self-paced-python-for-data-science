{
 "cells": [
  {
   "cell_type": "markdown",
   "id": "a915c662",
   "metadata": {},
   "source": [
    "### Combinations & Permutations\n",
    "**probability distributions** are  mathematical function that predict the likelyhoods of occurrence of different possible outcomes for an experiment. Different experiments and types of events have different distributions because the probability changes based on natural causes.  \n",
    "\n",
    "Distributions are usually visualized one variable at a time (1-dimensional) with histograms\n",
    "\n",
    "##### 1. Read:\n",
    "* Wiley - [Understanding and Choosing the Right Probability Distributions](https://onlinelibrary.wiley.com/doi/pdf/10.1002/9781119197096.app03) Short \n",
    "* Dummies.com - [Discrete and Continuous Probability Distributions](https://www.dummies.com/article/technology/information-technology/data-science/big-data/discrete-and-continuous-probability-distributions-142226) - Breif overview\n",
    "* healthknowledge.org.uk - [Standard Statistical Distributions (e.g. Normal, Poisson, Binomial) and their uses](https://www.healthknowledge.org.uk/public-health-textbook/research-methods/1b-statistical-methods/statistical-distributions) -  medical uses for different distribtutions\n",
    "*  Analytics Vidhya  - [6 Common Probability Distributions every data science professional should know](https://www.analyticsvidhya.com/blog/2017/09/6-probability-distributions-data-science/) Short and theoretical\n",
    "* \n",
    "\n",
    "##### 2. Watch & Try:\n",
    "* \n",
    "* \n",
    "\n",
    "##### 3. Self Assess:\n",
    "* "
   ]
  },
  {
   "cell_type": "code",
   "execution_count": null,
   "id": "03aee7bf",
   "metadata": {},
   "outputs": [],
   "source": []
  }
 ],
 "metadata": {
  "kernelspec": {
   "display_name": "Python 3",
   "language": "python",
   "name": "python3"
  },
  "language_info": {
   "codemirror_mode": {
    "name": "ipython",
    "version": 3
   },
   "file_extension": ".py",
   "mimetype": "text/x-python",
   "name": "python",
   "nbconvert_exporter": "python",
   "pygments_lexer": "ipython3",
   "version": "3.7.10"
  }
 },
 "nbformat": 4,
 "nbformat_minor": 5
}
