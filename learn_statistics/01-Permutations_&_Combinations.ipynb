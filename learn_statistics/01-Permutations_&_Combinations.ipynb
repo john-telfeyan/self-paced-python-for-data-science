{
 "cells": [
  {
   "cell_type": "markdown",
   "metadata": {},
   "source": [
    "### Combinations & Permutations\n",
    "\n",
    "##### 1. Read:\n",
    "* http://onlinestatbook.com/2/probability/permutations.html\n",
    "\n",
    "##### 2. Watch & Try:\n",
    "* https://www.khanacademy.org/math/statistics-probability/counting-permutations-and-combinations\n",
    "\n",
    "* https://www.khanacademy.org/math/statistics-probability/probability-library"
   ]
  },
  {
   "cell_type": "code",
   "execution_count": null,
   "metadata": {},
   "outputs": [],
   "source": []
  }
 ],
 "metadata": {
  "kernelspec": {
   "display_name": "Python 3",
   "language": "python",
   "name": "python3"
  },
  "language_info": {
   "codemirror_mode": {
    "name": "ipython",
    "version": 3
   },
   "file_extension": ".py",
   "mimetype": "text/x-python",
   "name": "python",
   "nbconvert_exporter": "python",
   "pygments_lexer": "ipython3",
   "version": "3.6.10"
  }
 },
 "nbformat": 4,
 "nbformat_minor": 4
}
