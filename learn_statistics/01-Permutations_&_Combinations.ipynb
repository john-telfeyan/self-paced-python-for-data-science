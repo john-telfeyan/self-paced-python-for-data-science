{
 "cells": [
  {
   "cell_type": "markdown",
   "metadata": {},
   "source": [
    "### Combinations & Permutations\n",
    "A lottery \"game\" consists of picking *k* numbers from a pool *n*. For example, you select 6 numbers out of 60. To win, the order in which you pick the numbers doesn't matter; you only have to choose the right set of  numbers. The chances of winning equal the number of different length-k sequences that can be chosen. A related, but different, problem is selecting the batting lineup for a baseball team. Now the order matters, and many more choices are possible than when order does not matter.  \n",
    "\n",
    "Calculating permutations is the easiest. When order does not matter, the number of combinations equals the number of permutations divided by the number of orderings. \n",
    "(From [Fundamentals of Electrical Engineering I Ch 0: Appendix](https://www.circuitbread.com/textbooks/fundamentals-of-electrical-engineering-i/appendix/permutations-and-combinations) )\n",
    "\n",
    "##### 1. Read:\n",
    "* Permutaions and Combinations by David M Lane - http://onlinestatbook.com/2/probability/permutations.html (Order, Multiplication Rule)\n",
    "\n",
    "##### 2. Watch & Try:\n",
    "* Unit: Counting, permutations, and combinations: https://www.khanacademy.org/math/statistics-probability/counting-permutations-and-combinations\n",
    "\n",
    "* https://www.khanacademy.org/math/statistics-probability/probability-library\n",
    "\n",
    "##### 3. Self Assess:\n",
    "* Probems with video solutions https://talentbattle.in/blogs/practice-quantitative-aptitude-questions/permutation-and-combination\n",
    "\n",
    "##### 4. Continue Learning:\n",
    "* [Basic Stats](https://www.coursera.org/learn/basic-statistics#syllabus) - Corsera \n",
    "* [Stats & Probability](https://www.khanacademy.org/math/statistics-probability) - Khan Ac.\n"
   ]
  },
  {
   "cell_type": "code",
   "execution_count": null,
   "metadata": {},
   "outputs": [],
   "source": []
  }
 ],
 "metadata": {
  "kernel_info": {
   "name": "python3"
  },
  "kernelspec": {
   "display_name": "Python 3",
   "language": "python",
   "name": "python3"
  },
  "language_info": {
   "codemirror_mode": {
    "name": "ipython",
    "version": 3
   },
   "file_extension": ".py",
   "mimetype": "text/x-python",
   "name": "python",
   "nbconvert_exporter": "python",
   "pygments_lexer": "ipython3",
   "version": "3.8.8"
  },
  "nteract": {
   "version": "nteract-front-end@1.0.0"
  }
 },
 "nbformat": 4,
 "nbformat_minor": 4
}
