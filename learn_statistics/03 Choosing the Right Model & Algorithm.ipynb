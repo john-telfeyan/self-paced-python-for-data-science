{
 "cells": [
  {
   "cell_type": "markdown",
   "id": "7a444c7f",
   "metadata": {},
   "source": [
    "### Lesson 3: Models & Algorithms\n",
    "\n",
    "\n",
    "##### 1. Watch:\n",
    "* [Introduction to statistical modeling](https://www.youtube.com/watch?v=n7tXS9phCac) - Some advertising for XCelStat you'll want to skip over but overall great\n",
    "* [Probability Models](https://www.youtube.com/watch?v=eRgeKID7Er8)\n",
    "* [Types of Machine Learning Models](https://www.youtube.com/watch?v=PPKdoGasah0) - Classification, Clustering and Regression\n",
    "\n",
    "##### 2. Read:\n",
    "* [What's the difference between Regression and Classification](https://towardsdatascience.com/classification-regression-and-prediction-whats-the-difference-5423d9efe4ec)\n",
    "* [Breif summaries for lots of algorithms](http://alumni.media.mit.edu/~tpminka/statlearn/glossary/) - MIT \n",
    "* [Selection Process](https://www.theanalysisfactor.com/7-guidelines-model-building/)\n",
    "* [How to decide on statistical model](https://medium.com/analytics-vidhya/how-to-select-the-best-possible-statistical-model-for-given-dataset-3202d3709689)\n",
    "* [Statistical Tests](https://stats.idre.ucla.edu/other/mult-pkg/whatstat/)\n",
    "\n",
    "##### 3. Continue Learning:\n",
    "* [Machine Learning with Python: A Practical Introduction](https://learning.edx.org/course/course-v1:IBM+ML0101EN+2T2021/home)\n",
    "* [Data Analysis with Python](https://cognitiveclass.ai/courses/data-analysis-python)\n"
   ]
  },
  {
   "cell_type": "markdown",
   "id": "b2481264",
   "metadata": {},
   "source": [
    "#### Flow charts"
   ]
  },
  {
   "cell_type": "markdown",
   "id": "c5d5d263",
   "metadata": {},
   "source": [
    "![chart](http://3.bp.blogspot.com/_2xiu9sB2sUM/Sb6WuALqrkI/AAAAAAAAAaE/-Jqa-kVcSvY/s1600/page1.jpg)\n",
    "![chart](http://3.bp.blogspot.com/_2xiu9sB2sUM/Sb6W1DWKkqI/AAAAAAAAAaM/3e_SqkH18vQ/s1600/page3.jpg)\n",
    "![chart](http://3.bp.blogspot.com/_2xiu9sB2sUM/Sb6WuALqrkI/AAAAAAAAAaE/-Jqa-kVcSvY/s1600/page2.jpg)"
   ]
  },
  {
   "cell_type": "code",
   "execution_count": null,
   "id": "a5804adc",
   "metadata": {},
   "outputs": [],
   "source": []
  },
  {
   "cell_type": "code",
   "execution_count": null,
   "id": "7ab9306c",
   "metadata": {},
   "outputs": [],
   "source": []
  }
 ],
 "metadata": {
  "kernelspec": {
   "display_name": "Python 3",
   "language": "python",
   "name": "python3"
  },
  "language_info": {
   "codemirror_mode": {
    "name": "ipython",
    "version": 3
   },
   "file_extension": ".py",
   "mimetype": "text/x-python",
   "name": "python",
   "nbconvert_exporter": "python",
   "pygments_lexer": "ipython3",
   "version": "3.8.8"
  }
 },
 "nbformat": 4,
 "nbformat_minor": 5
}
