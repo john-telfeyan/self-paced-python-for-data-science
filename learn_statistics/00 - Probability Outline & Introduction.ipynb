{
 "cells": [
  {
   "cell_type": "markdown",
   "metadata": {},
   "source": [
    "## Outline\n",
    "\n",
    "00. Introduction - (skip)\n",
    "01. <a href=\"01-Permutations_%26_Combinations.ipynb\"> Combinations & Permutations (must read) </a>\n",
    "02. Probability Distributions (must read) (Under construction)\n",
    "03. "
   ]
  },
  {
   "cell_type": "markdown",
   "metadata": {},
   "source": [
    "## Introduction\n",
    "\n",
    "Are you above average? Is your child an A student? Is your employee an introvert or an extrovert? Every day we are measured against the \"average person,\" judged according to how closely we resemble the average--or how far we exceed it. The assumption that average-based yardsticks like academic GPAs, personality tests, and annual performance reviews reveal something meaningful about our ability is so ingrained in our consciousness that we never question it. But this assumption, argues Harvard scientist Todd Rose, is spectacularly wrong.\n",
    "\n",
    "The field of statistics is the science of learning from data. Statistical knowledge helps you use the proper methods to collect the data, employ the correct analyses, and effectively present the results. Statistics is a crucial process behind how we make discoveries in science, make decisions based on data, and make predictions. Statistics allows you to understand a subject much more deeply.\n",
    "\n",
    " First, statisticians are guides for learning from data and navigating common problems that can lead you to incorrect conclusions. Second, given the growing importance of decisions and opinions based on data, it’s crucial that you can critically assess the quality of analyses that others present to you.\n",
    " \n",
    "##### Lies, Damned Lies, and Statistics: Use Statistical Knowledge to Protect Yourself\n",
    "\n",
    "Unscrupulous analysts can use incorrect methodology to draw unwarranted conclusions. That long list of accidental pitfalls can quickly become a source of techniques to produce misleading analyses intentionally. But, how do you know? If you’re not familiar with statistics, these manipulations can be hard to detect. Statistical knowledge is the solution to this problem. Use it to protect yourself from manipulation and to react to information intelligently including:\n",
    "\n",
    "* Biased samples\n",
    "* Overgeneralization\n",
    "* Incorrect analysis\n",
    "* Violating the assumptions for an analysis\n",
    "* Data mining\n",
    "\n",
    "Above text taken from:\n",
    "* \"The Importance of Statistics\" By Jim Frost: https://statisticsbyjim.com/basics/importance-statistics/ \n",
    "* \"The End of Average\" by Tod Ross\n",
    " \n",
    "\n",
    "\n",
    "#### 1. Read:\n",
    "* \"How is Data Science different than statistics?\" by Chief Scientist RStudio Hadley Wickham https://imstat.org/2014/09/04/data-science-how-is-it-different-to-statistics%e2%80%89/\n",
    "\n",
    "\n",
    "\n",
    "#### 2. Watch:\n",
    "* **Check out this segmant by John Oliver on P-hacking**: https://www.youtube.com/watch?v=FLNeWgs2n_Q\n",
    "* **Short** - \"Teach me STATISTICS in half an hour!\" by zedstatistics : https://www.youtube.com/watch?v=kyjlxsLW1Is -- gives a conceptual overview of all the terms you will hear and basic use cases for stats.\n",
    "* **Short** - The Myth of Average: Todd Rose at TEDxSonomaCounty: https://www.youtube.com/watch?v=kyjlxsLW1Is -- understand the impact of correctly using stats\n",
    "* **Long** -MIT OpenCourseWare Introduction to Statistics https://youtu.be/VPZD_aij8H0?t=800 ( Start at minute 13:20)\n",
    "\n",
    "<div>\n",
    "<img src=\"https://www.azquotes.com/picture-quotes/quote-the-best-thing-about-being-a-statistician-is-that-you-get-to-play-in-everyone-s-backyard-john-tukey-60-34-05.jpg\" width=\"400\"/>\n",
    "</div>"
   ]
  },
  {
   "cell_type": "code",
   "execution_count": null,
   "metadata": {},
   "outputs": [],
   "source": []
  },
  {
   "cell_type": "code",
   "execution_count": null,
   "metadata": {},
   "outputs": [],
   "source": []
  }
 ],
 "metadata": {
  "kernelspec": {
   "display_name": "Python 3",
   "language": "python",
   "name": "python3"
  },
  "language_info": {
   "codemirror_mode": {
    "name": "ipython",
    "version": 3
   },
   "file_extension": ".py",
   "mimetype": "text/x-python",
   "name": "python",
   "nbconvert_exporter": "python",
   "pygments_lexer": "ipython3",
   "version": "3.6.10"
  }
 },
 "nbformat": 4,
 "nbformat_minor": 4
}
