{
  "cells": [
    {
      "cell_type": "markdown",
      "source": [
        "## Outline\n",
        "\n",
        "00. Introduction - (skip)\n",
        "01. [Combinations & Permutations (must read)](01-Permutations_%26_Combinations.ipynb) </a>\n",
        "02. Probability Distributions (must read) (Under construction)\n",
        "03. "
      ],
      "metadata": {}
    },
    {
      "cell_type": "markdown",
      "source": [
        "## Introduction\n",
        "\n",
        "***This section provides some basic resources and an overview of statistics. If you've already got a birds-eye-view, skip ahead to the lessons.***\n",
        "\n",
        "Mathematics is the logic of certainty; probability is the logic of uncertainty. Are you above average? Is your child an A student? Is your employee an introvert or an extrovert? Every day we are measured against the \"average person,\" judged according to how closely we resemble the average--or how far we exceed it. The assumption that average-based yardsticks like academic GPAs, personality tests, and annual performance reviews reveal something meaningful about our ability is so ingrained in our consciousness that we never question it. But this assumption, argues Harvard scientist Todd Rose, is spectacularly wrong.\n",
        "\n",
        "The field of statistics is the science of learning from data. Statistical knowledge helps you use the proper methods to collect the data, employ the correct analyses, and effectively present the results. Statistics is a crucial process behind how we make discoveries in science, make decisions based on data, and make predictions. Statistics allows you to understand a subject much more deeply.\n",
        "\n",
        " First, statisticians are guides for learning from data and navigating common problems that can lead you to incorrect conclusions. Second, given the growing importance of decisions and opinions based on data, it’s crucial that you can critically assess the quality of analyses that others present to you.\n",
        " \n",
        "##### Lies, Damned Lies, and Statistics: Use Statistical Knowledge to Protect Yourself\n",
        "\n",
        "Unscrupulous analysts can use incorrect methodology to draw unwarranted conclusions. That long list of accidental pitfalls can quickly become a source of techniques to produce misleading analyses intentionally. But, how do you know? If you’re not familiar with statistics, these manipulations can be hard to detect. Statistical knowledge is the solution to this problem. Use it to protect yourself from manipulation and to react to information intelligently including:\n",
        "\n",
        "* Biased samples\n",
        "* Overgeneralization\n",
        "* Incorrect analysis\n",
        "* Violating the assumptions for an analysis\n",
        "* Data cherry picking\n",
        "\n",
        "#### 1. Read:\n",
        "* \"How is Data Science different than statistics?\" by Chief Scientist RStudio Hadley Wickham https://imstat.org/2014/09/04/data-science-how-is-it-different-to-statistics%e2%80%89/\n",
        "\n",
        "#### 2. Watch:\n",
        "* **Check out this segmant by John Oliver on P-hacking**: https://www.youtube.com/watch?v=FLNeWgs2n_Q\n",
        "* **Short** - \"Teach me STATISTICS in half an hour!\" by zedstatistics : https://www.youtube.com/watch?v=kyjlxsLW1Is -- gives a conceptual overview of all the terms you will hear and basic use cases for stats.\n",
        "* **Short** - The Myth of Average: Todd Rose at TEDxSonomaCounty: https://www.youtube.com/watch?v=kyjlxsLW1Is -- understand the impact of correctly using stats\n",
        "* **Long** -MIT OpenCourseWare Introduction to Statistics https://youtu.be/VPZD_aij8H0?t=800 ( Start at minute 13:20)\n",
        "\n",
        "#### 3. Cheat-sheets & Refference Guides\n",
        "* https://web.mit.edu/~csvoss/Public/usabo/stats_handout.pdf\n",
        "* http://people.fas.harvard.edu/~mparzen/stat100/Stat%20100%20Final%20Cheat%20Sheets%20-%20Google%20Docs%20(2).pdf\n",
        "* http://cs229.stanford.edu/section/cs229-prob.pdf\n",
        "* \n",
        "#### 4. Freely Textbooks:\n",
        "* Introduction to Probabilty - Blitzstein & Hwang - Stanford - https://drive.google.com/file/d/1VmkAAGOYCTORq1wxSQqy255qLJjTNvBI/view\n",
        "*\n",
        "\n",
        "<div>\n",
        "<img src=\"https://www.azquotes.com/picture-quotes/quote-the-best-thing-about-being-a-statistician-is-that-you-get-to-play-in-everyone-s-backyard-john-tukey-60-34-05.jpg\" width=\"400\"/>\n",
        "</div>\n",
        "\n",
        "Above Intro text taken from:\n",
        "* \"The Importance of Statistics\" By Jim Frost: https://statisticsbyjim.com/basics/importance-statistics/ \n",
        "* \"The End of Average\" by Tod Ross\n",
        "* [Fundamentals of Electrical Engineering I Ch 0: Appendix](https://www.circuitbread.com/textbooks/fundamentals-of-electrical-engineering-i/appendix/permutations-and-combinations)\n",
        "\n",
        "\n",
        " "
      ],
      "metadata": {}
    },
    {
      "cell_type": "code",
      "source": [],
      "outputs": [],
      "execution_count": null,
      "metadata": {}
    },
    {
      "cell_type": "code",
      "source": [],
      "outputs": [],
      "execution_count": null,
      "metadata": {}
    }
  ],
  "metadata": {
    "kernelspec": {
      "name": "python3",
      "language": "python",
      "display_name": "Python 3"
    },
    "language_info": {
      "name": "python",
      "version": "3.6.9",
      "mimetype": "text/x-python",
      "codemirror_mode": {
        "name": "ipython",
        "version": 3
      },
      "pygments_lexer": "ipython3",
      "nbconvert_exporter": "python",
      "file_extension": ".py"
    },
    "kernel_info": {
      "name": "python3"
    },
    "nteract": {
      "version": "nteract-front-end@1.0.0"
    }
  },
  "nbformat": 4,
  "nbformat_minor": 4
}